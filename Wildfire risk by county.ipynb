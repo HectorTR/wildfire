{
 "cells": [
  {
   "cell_type": "markdown",
   "metadata": {},
   "source": [
    "# Wildfire risk by US county"
   ]
  },
  {
   "cell_type": "markdown",
   "metadata": {},
   "source": [
    "## Introduction"
   ]
  },
  {
   "cell_type": "markdown",
   "metadata": {},
   "source": [
    "### Obtain all zipcodes for the state"
   ]
  },
  {
   "cell_type": "code",
   "execution_count": 1,
   "metadata": {},
   "outputs": [
    {
     "name": "stdout",
     "output_type": "stream",
     "text": [
      "2589 zipcodes found...\n",
      "      zipcode              city       county\n",
      "0       90001       Los Angeles  Los Angeles\n",
      "1       90002       Los Angeles  Los Angeles\n",
      "2       90003       Los Angeles  Los Angeles\n",
      "3       90004       Los Angeles  Los Angeles\n",
      "4       90005       Los Angeles  Los Angeles\n",
      "...       ...               ...          ...\n",
      "2584    96157  South Lake Tahoe    El Dorado\n",
      "2585    96158  South Lake Tahoe    El Dorado\n",
      "2586    96160           Truckee       Nevada\n",
      "2587    96161           Truckee       Nevada\n",
      "2588    96162           Truckee       Nevada\n",
      "\n",
      "[2589 rows x 3 columns]\n"
     ]
    }
   ],
   "source": [
    "state_name = 'CA'\n",
    "filename = 'data/zipcodes_'+state_name+'.csv'\n",
    "import pandas as pd\n",
    "counties = pd.read_csv(filename, names=['zipcode','city','county'])\n",
    "print(\"%d zipcodes found...\" % len(counties))\n",
    "with pd.option_context('display.max_rows',10) : \n",
    "    print(counties)"
   ]
  },
  {
   "cell_type": "markdown",
   "metadata": {},
   "source": [
    "### Load cencus data "
   ]
  },
  {
   "cell_type": "code",
   "execution_count": 2,
   "metadata": {},
   "outputs": [
    {
     "name": "stdout",
     "output_type": "stream",
     "text": [
      "WARNING: missing data in 2143 out of 2589 zipcodes\n"
     ]
    }
   ],
   "source": [
    "from uszipcode import SearchEngine\n",
    "\n",
    "search = SearchEngine(simple_zipcode=True)\n",
    "countydata = {}\n",
    "skipped_zip=0\n",
    "for zipcode in list(counties.index) : \n",
    "    data = search.by_zipcode(str(zipcode)).to_dict()\n",
    "    try : \n",
    "        countydata[zipcode] = {\n",
    "            \"City\":data[\"major_city\"]+\" \"+data[\"state\"],\n",
    "            \"Latitude\":data[\"lat\"],\n",
    "            \"Longitude\":data[\"lng\"],\n",
    "            \"Population\":data[\"population\"],\n",
    "            \"Density\":int(data[\"population_density\"]),\n",
    "            \"Occupancy\":int(data[\"occupied_housing_units\"] / data[\"housing_units\"] * 100)/100,\n",
    "            \"Value\":int(data[\"median_home_value\"]/100)/10,\n",
    "            \"Income\":int(data[\"median_household_income\"]/100)/10\n",
    "        }\n",
    "    except:\n",
    "        skipped_zip = skipped_zip+1\n",
    "#         print(\"WARNING: error processing %s rbs, skipping\" % (zipcode))\n",
    "print(\"WARNING: missing data in %d out of %d zipcodes\" % (skipped_zip,len(counties)))"
   ]
  },
  {
   "cell_type": "markdown",
   "metadata": {},
   "source": [
    "### Load FEMA data"
   ]
  },
  {
   "cell_type": "markdown",
   "metadata": {},
   "source": [
    "The data is retrieved from https://www.fema.gov/openfema-dataset-disaster-declarations-summaries-v2"
   ]
  },
  {
   "cell_type": "code",
   "execution_count": 3,
   "metadata": {},
   "outputs": [
    {
     "name": "stdout",
     "output_type": "stream",
     "text": [
      "Types of incidents filed in the data set...\n",
      "{'Tsunami', 'Hurricane', 'Toxic Substances', 'Fire', 'incidentType', 'Drought', 'Chemical', 'Tornado', 'Dam/Levee Break', 'Coastal Storm', 'Human Cause', 'Typhoon', 'Flood', 'Freezing', 'Other', 'Severe Ice Storm', 'Fishing Losses', 'Terrorist', 'Volcano', 'Earthquake', 'Severe Storm(s)', 'Snow', 'Mud/Landslide'}\n"
     ]
    },
    {
     "name": "stderr",
     "output_type": "stream",
     "text": [
      "/usr/local/lib/python3.7/site-packages/IPython/core/interactiveshell.py:3058: DtypeWarning: Columns (1,5,8,9,10,11,15,16,17,19) have mixed types. Specify dtype option on import or set low_memory=False.\n",
      "  interactivity=interactivity, compiler=compiler, result=result)\n"
     ]
    }
   ],
   "source": [
    "fema_filename = 'data/DisasterDeclarationsSummaries.csv'\n",
    "fire_data = pd.read_csv(fema_filename, index_col=[1],names=[\"femaDeclarationString\",\n",
    "                                                            \"disasterNumber\",\n",
    "                                                            \"state\",\n",
    "                                                            \"declarationType\",\n",
    "                                                            \"declarationDate\",\n",
    "                                                            \"fyDeclared\",\n",
    "                                                            \"incidentType\",\n",
    "                                                            \"declarationTitle\",\n",
    "                                                            \"ihProgramDeclared\",\n",
    "                                                            \"iaProgramDeclared\",\n",
    "                                                            \"paProgramDeclared\",\n",
    "                                                            \"hmProgramDeclared\",\n",
    "                                                            \"incidentBeginDate\",\n",
    "                                                            \"incidentEndDate\",\n",
    "                                                            \"disasterCloseoutDate\",\n",
    "                                                            \"fipsStateCode\",\n",
    "                                                            \"fipsCountyCode\",\n",
    "                                                            \"placeCode\",\n",
    "                                                            \"designatedArea\",\n",
    "                                                            \"declarationRequestNumber\",\n",
    "                                                            \"hash\",\"lastRefresh\"])\n",
    "print('Types of incidents filed in the data set...')\n",
    "print(set(fire_data['incidentType']))\n",
    "# for item in list(fire_data.index) : \n",
    "#     print(item)\n",
    "# with pd.option_context('display.max_rows',10) : \n",
    "#     print(fire_data)"
   ]
  },
  {
   "cell_type": "markdown",
   "metadata": {},
   "source": [
    "*Assuming only fire incidents are relevent to this study"
   ]
  },
  {
   "cell_type": "markdown",
   "metadata": {},
   "source": [
    "### Getting California fire incident data"
   ]
  },
  {
   "cell_type": "code",
   "execution_count": 4,
   "metadata": {},
   "outputs": [],
   "source": [
    "import requests \n",
    "from bs4 import BeautifulSoup\n",
    "import re\n",
    "table_content = []\n",
    "final_list = []\n",
    "list_of_avail_years = range(2013,2020,1)\n",
    "for yr in list_of_avail_years : \n",
    "    url = 'https://www.fire.ca.gov/incidents/'+str(yr)+'/'\n",
    "    r = requests.get(url)\n",
    "    soup = BeautifulSoup(r.content, 'html.parser')\n",
    "    html_content = {}\n",
    "    for i in range(len(soup.find_all('div'))) : \n",
    "        try : \n",
    "            if soup.find_all('div')[i].attrs['class'] == ['section', 'incidents-esri-webmap']: \n",
    "                html_content = soup.find_all('div')[i].text\n",
    "        except : \n",
    "            continue\n",
    "    \n",
    "    table_content=eval(html_content.partition('create_map([')[2].split(\"\\n\")[0][:-3])\n",
    "    for t in table_content : \n",
    "        final_list.append(t)\n"
   ]
  },
  {
   "cell_type": "code",
   "execution_count": 5,
   "metadata": {},
   "outputs": [],
   "source": [
    "fires_df = pd.DataFrame(final_list)"
   ]
  },
  {
   "cell_type": "markdown",
   "metadata": {},
   "source": [
    "Example fire statistics on Ranch Fires"
   ]
  },
  {
   "cell_type": "code",
   "execution_count": 6,
   "metadata": {},
   "outputs": [
    {
     "name": "stdout",
     "output_type": "stream",
     "text": [
      "      IncidentId                              UniqueId  \\\n",
      "87           740  591a56a5-e9c0-45a0-96bd-34098588c39b   \n",
      "208          861  9487beeb-6c40-46fc-b4b3-a353a688a826   \n",
      "323          976  a4e4603a-f0fc-4d7a-845b-6c668bfcb81e   \n",
      "488         1141  5689b708-61e8-4451-8ad6-68d9684704c6   \n",
      "735         1388  5da65d7f-cc75-4c0c-b221-1a1e3000a120   \n",
      "834         1487  2fd950a8-fadb-467c-ab59-88e7ea007738   \n",
      "1144        1796  b2adde70-a40e-4b81-9f5f-8f6b96042af2   \n",
      "1253        1905  90b0daf7-5d84-42d9-bb35-bb78d4faf950   \n",
      "1313        1965  20b57ee7-b0b7-47db-8a12-e5fcdb114459   \n",
      "1424        2079  65330473-c21f-446b-a6f4-7bd76bf0ebdc   \n",
      "1564        2315  e2a0252b-2da9-4967-ba33-7abe3ced1efa   \n",
      "1620        2371  69d98a94-4980-4dc0-b388-61c37c635f32   \n",
      "\n",
      "                                Name  \\\n",
      "87                       Rancho Fire   \n",
      "208                       Ranch Fire   \n",
      "323                       Ranch Fire   \n",
      "488                      Rancho Fire   \n",
      "735                       Ranch Fire   \n",
      "834                       Ranch Fire   \n",
      "1144                   Ranchita Fire   \n",
      "1253  Ranch Fire (Mendocino Complex)   \n",
      "1313                   Ranchera Fire   \n",
      "1424                      Ranch Fire   \n",
      "1564                      Ranch Fire   \n",
      "1620                      Ranch Fire   \n",
      "\n",
      "                                               Location   Latitude  \\\n",
      "87     West side of Interstate 5 in Lebec (Kern County)  34.882000   \n",
      "208                       Southwest of Greenhorn Summit   0.000000   \n",
      "323       off French Creek Rd, south of Shingle Springs   0.000000   \n",
      "488                               Hwy 104, west of Ione  38.385000   \n",
      "735      Off Grant Road, Mt. Hamilton, east of San Jose  37.334400   \n",
      "834                            Ranch Camp Rd, Mt. Aukum  38.559707   \n",
      "1144  Ranchita Canyon Road, southwest of the town of...  35.770170   \n",
      "1253  off Highway 20 near Potter Valley, northeast o...  39.243283   \n",
      "1313  Ranchera Road and Hill Boulevard, Shasta Lake ...  40.678889   \n",
      "1424         Near Yolla Bolla Rd & Roaring Creek in Igo  40.417410   \n",
      "1564  Off of Pozo Road and Avenales Ranch Rd, Southe...  35.189783   \n",
      "1620  Colyer Springs Rd and Raglin Ridge Rd, southwe...  40.036379   \n",
      "\n",
      "       Longitude AcresBurnedDisplay PercentContainedDisplay  \\\n",
      "87   -118.919400                712                    100%   \n",
      "208     0.000000                 70                    100%   \n",
      "323     0.000000                 35                    100%   \n",
      "488  -121.003611                372                    100%   \n",
      "735  -121.717520                 85                    100%   \n",
      "834  -120.700130                140                    100%   \n",
      "1144 -120.578330                 10                    100%   \n",
      "1253 -123.103367            410,203                    100%   \n",
      "1313 -122.400556                 13                    100%   \n",
      "1424 -122.767256                 30                    100%   \n",
      "1564 -120.175500                 52                    100%   \n",
      "1620 -122.637837              2,534                    100%   \n",
      "\n",
      "                        CountiesList          UpdatedDate StartedDate  \\\n",
      "87                              Kern  2013-07-22 18:45:00  2013-07-19   \n",
      "208                             Kern  2014-07-06 08:30:00  2014-07-01   \n",
      "323                        El Dorado  2015-07-05 11:30:00  2015-07-03   \n",
      "488                           Amador  2016-06-29 07:30:00  2016-06-28   \n",
      "735                      Santa Clara  2018-01-09 11:11:00  2017-06-29   \n",
      "834                        El Dorado  2018-01-09 12:06:00  2017-07-26   \n",
      "1144                        Monterey  2019-01-04 10:04:00  2018-06-19   \n",
      "1253  Colusa, Glenn, Lake, Mendocino  2019-10-25 10:08:11  2018-07-27   \n",
      "1313                          Shasta  2019-01-04 09:08:00  2018-09-04   \n",
      "1424                          Shasta  2019-07-08 07:51:24  2019-07-05   \n",
      "1564                 San Luis Obispo  2019-10-24 14:14:58  2019-10-01   \n",
      "1620                          Tehama  2019-11-18 08:28:54  2019-11-03   \n",
      "\n",
      "                                              AdminUnit IncidentTypeDisplay  \\\n",
      "87    CAL FIRE / Kern County Fire / State Parks / US...                       \n",
      "208                             Sequoia National Forest                       \n",
      "323                      CAL FIRE Amador El-Dorado Unit                       \n",
      "488                     CAL FIRE Amador- El Dorado Unit                       \n",
      "735                           CAL FIRE Santa Clara Unit                       \n",
      "834                    CAL FIRE Amador - El Dorado Unit                       \n",
      "1144                  CAL FIRE San Benito-Monterey Unit                       \n",
      "1253                    USFS Mendocino National Forest             Wildfire   \n",
      "1313               Shasta Lake Fire Protection District                       \n",
      "1424                       CAL FIRE Shasta-Trinity Unit            Wildfire   \n",
      "1564                        Los Padres National Forest             Wildfire   \n",
      "1620                         CAL FIRE Tehama-Glenn Unit            Wildfire   \n",
      "\n",
      "                                                    Url IsActive  \n",
      "87    https://www.fire.ca.gov/incidents/2013/7/19/ra...        N  \n",
      "208   https://www.fire.ca.gov/incidents/2014/7/1/ran...        N  \n",
      "323   https://www.fire.ca.gov/incidents/2015/7/3/ran...        N  \n",
      "488   https://www.fire.ca.gov/incidents/2016/6/28/ra...        N  \n",
      "735   https://www.fire.ca.gov/incidents/2017/6/29/ra...        N  \n",
      "834   https://www.fire.ca.gov/incidents/2017/7/26/ra...        N  \n",
      "1144  https://www.fire.ca.gov/incidents/2018/6/19/ra...        N  \n",
      "1253  https://www.fire.ca.gov/incidents/2018/7/27/ra...        N  \n",
      "1313  https://www.fire.ca.gov/incidents/2018/9/4/ran...        N  \n",
      "1424  https://www.fire.ca.gov/incidents/2019/7/5/ran...        N  \n",
      "1564  https://www.fire.ca.gov/incidents/2019/10/1/ra...        N  \n",
      "1620  https://www.fire.ca.gov/incidents/2019/11/3/ra...        N  \n"
     ]
    }
   ],
   "source": [
    "print(fires_df.loc[fires_df['Name'].str.contains('Ranch')])"
   ]
  },
  {
   "cell_type": "markdown",
   "metadata": {},
   "source": [
    "Sorting by county by year "
   ]
  },
  {
   "cell_type": "code",
   "execution_count": 7,
   "metadata": {},
   "outputs": [
    {
     "name": "stdout",
     "output_type": "stream",
     "text": [
      "List of counties affect by fires : \n",
      " {'Yuba', 'Sierra', 'Modoc', 'Marin', 'Solano', 'Kern', 'Shasta', 'Ventura', 'Mono', 'Tehama', 'Butte', 'El Dorado', 'Fresno', 'Santa Barbara', 'Napa', 'State of Oregon', 'San Luis Obispo', 'Kings', 'Trinity', 'San Diego', 'Nevada', 'Amador', 'Sacramento', 'Placer', 'Plumas', 'Riverside', 'Santa Clara', 'Contra Costa', 'Orange', 'Mariposa', 'Sonoma', 'Stanislaus', 'Glenn', 'Monterey', 'Madera', 'Alameda', 'Lake', 'San Mateo', 'San Bernardino', 'Tulare', 'Inyo', 'Mendocino', 'Sutter', 'Lassen', 'San Joaquin', 'Calaveras', 'San Benito', 'Alpine', 'Humboldt', 'Mexico', 'Los Angeles', 'State of Nevada', 'Del Norte', 'Siskiyou', 'Colusa', 'Merced', 'Santa Cruz', 'Yolo', 'Tuolumne'}\n"
     ]
    }
   ],
   "source": [
    "county_list = []\n",
    "county_list_repeated = set(fires_df['CountiesList'].tolist())\n",
    "while (\"\" in county_list_repeated) : \n",
    "    county_list_repeated.remove(\"\")\n",
    "for item in county_list_repeated : \n",
    "    item_list = []\n",
    "    item_list = item.split(\",\")\n",
    "    if len(item_list) > 1 : \n",
    "        for c in item_list : \n",
    "            county_list.append(c.strip())\n",
    "    else : \n",
    "        county_list.append(item)\n",
    "county_set = set(county_list)\n",
    "print('List of counties affect by fires : \\n', county_set)"
   ]
  },
  {
   "cell_type": "code",
   "execution_count": 8,
   "metadata": {},
   "outputs": [
    {
     "name": "stdout",
     "output_type": "stream",
     "text": [
      "Total of 59 out 58 total counties in CA affected by fires\n"
     ]
    }
   ],
   "source": [
    "print(\"Total of %d out 58 total counties in CA affected by fires\" % len(county_set))"
   ]
  },
  {
   "cell_type": "markdown",
   "metadata": {},
   "source": [
    "The county size information was acquired from https://www.counties.org/pod/square-mileage-county on Nov 15, 2019"
   ]
  },
  {
   "cell_type": "code",
   "execution_count": 21,
   "metadata": {},
   "outputs": [
    {
     "name": "stdout",
     "output_type": "stream",
     "text": [
      "size    10181\n",
      "Name: Inyo, dtype: int64\n",
      "58 counties found...\n",
      "                 size\n",
      "county               \n",
      "San Bernardino  20057\n",
      "Inyo            10181\n",
      "Kern             8132\n",
      "Riverside        7206\n",
      "Siskiyou         6278\n",
      "...               ...\n",
      "Amador            595\n",
      "Marin             520\n",
      "San Mateo         448\n",
      "Santa Cruz        445\n",
      "San Francisco      47\n",
      "\n",
      "[58 rows x 1 columns]\n"
     ]
    }
   ],
   "source": [
    "county_size = pd.read_csv('data/counties_size.csv', names=['county','size'])\n",
    "county_size.set_index('county',inplace=True)\n",
    "print(county_size.loc['Inyo'])\n",
    "print(\"%d counties found...\" % len(county_size))\n",
    "with pd.option_context('display.max_rows',10) : \n",
    "    print(county_size)"
   ]
  },
  {
   "cell_type": "markdown",
   "metadata": {},
   "source": [
    "Note, the area is quoted in square miles."
   ]
  },
  {
   "cell_type": "markdown",
   "metadata": {},
   "source": [
    "Checking that the county is listed in the manifest : "
   ]
  },
  {
   "cell_type": "code",
   "execution_count": 10,
   "metadata": {},
   "outputs": [
    {
     "name": "stdout",
     "output_type": "stream",
     "text": [
      "ERROR: Unknown County State of Oregon in fire data\n",
      "ERROR: Unknown County Mexico in fire data\n",
      "ERROR: Unknown County State of Nevada in fire data\n"
     ]
    }
   ],
   "source": [
    "county_manifest = county_size['county'].values.tolist()\n",
    "county_exclude = []\n",
    "for county in county_set : \n",
    "    if county not in county_manifest : \n",
    "        print(\"ERROR: Unknown County %s in fire data\" % county)\n",
    "        county_exclude.append(county)"
   ]
  },
  {
   "cell_type": "code",
   "execution_count": 53,
   "metadata": {},
   "outputs": [
    {
     "name": "stdout",
     "output_type": "stream",
     "text": [
      "WARNING: Incomplete data entry at  South Fire in Tehama on 2019-09-05  acres burned : NULL\n",
      "WARNING: county Mexico is not in CA, excluding from analysis\n",
      "WARNING: Incomplete data entry at  Oak Fire in San Diego on 2019-10-22  acres burned : NULL\n",
      "WARNING: Incomplete data entry at  Johnson Fire  in Riverside on 2019-10-14  acres burned : NULL\n",
      "WARNING: Incomplete data entry at  Cow Fire in Inyo on 2019-09-06  acres burned : NULL\n",
      "WARNING: Incomplete data entry at  Taboose Fire in Inyo on 2019-09-06  acres burned : NULL\n",
      "{'Yuba': 11910.0, 'Sierra': 915.0, 'Modoc': 179192.0, 'Marin': 349.0, 'Solano': 63491.393162642424, 'Sonoma': 167636.8421785253, 'Lake': 357711.93414023606, 'Colusa': 75024.7889413172, 'Napa': 187524.75179954732, 'Kern': 122204.04952380952, 'Ventura': 333444.771744363, 'Shasta': 473635.6212251941, 'Trinity': 322012.68938740296, 'Santa Barbara': 245958.20816950634, 'Los Angeles': 164300.89357735976, 'Mono': 32111.455026455027, 'Inyo': 0, 'Tehama': 3228.0, 'Butte': 190702.0, 'El Dorado': 117050.9953482231, 'Sacramento': 1880.8458660680883, 'Amador': 3140.4407294832827, 'Placer': 33877.21573033708, 'Fresno': 214411.0, 'Yolo': 70373.89619965968, 'San Luis Obispo': 98731.16017964072, 'Monterey': 155526.41991017965, 'Kings': 54377.0, 'San Diego': 184.0, 'Nevada': 5366.0, 'Plumas': 63817.0, 'Riverside': 841.0, 'Santa Clara': 7544.0, 'Contra Costa': 6884.0, 'Orange': 36764.0, 'Mariposa': 217852.0, 'Stanislaus': 11283.0, 'Glenn': 301327.45454545453, 'Mendocino': 509600.9976630844, 'Madera': 44505.0, 'Alameda': 6387.0, 'San Mateo': 153.0, 'San Bernardino': 90897.0, 'Tulare': 94255.0, 'Sutter': 2850.0, 'Lassen': 151797.0, 'San Joaquin': 13351.0, 'Calaveras': 2648.0, 'San Benito': 4354.0, 'Alpine': 0.0, 'Humboldt': 22925.0, 'Del Norte': 38407.0, 'Siskiyou': 367914.0, 'Merced': 13641.0, 'Santa Cruz': 428.0, 'Tuolumne': 299132.0}\n"
     ]
    }
   ],
   "source": [
    "# Summary of required variables\n",
    "# county_set - counties that had records of fires \n",
    "# fires_df - dataframe will all the fire incidents in CA \n",
    "# county_size - size of county for multiple counties that were affected by the same fire\n",
    "\n",
    "county_acres_burnt = {}\n",
    "\n",
    "for county in county_set : \n",
    "    if county in county_manifest :\n",
    "        county_acres_burnt[county]=0\n",
    "        for row in fires_df.itertuples(index = True, name ='Pandas'): \n",
    "            if county in getattr(row, \"CountiesList\") : \n",
    "                county_temp = [x.strip(' ') for x in (getattr(row, \"CountiesList\")).split(\",\")]\n",
    "                # Look up the square footage of each county \n",
    "                if getattr(row,\"AcresBurnedDisplay\")!='' :\n",
    "                    total_acres = float(getattr(row,\"AcresBurnedDisplay\").replace(',', ''))\n",
    "\n",
    "                if len(county_temp) > 1:\n",
    "                    total_area = 0\n",
    "                    c_dict = {}\n",
    "                    for c in county_temp :\n",
    "                        if c not in county_manifest :\n",
    "                            print(\"WARNING: county/region %s is not in CA, excluding from analysis\" % c)\n",
    "                        else :\n",
    "                            total_area = total_area+county_size.loc[c]['size']\n",
    "                            c_dict[c]=county_size.loc[c]['size']\n",
    "                    for key,elem in c_dict.items() : \n",
    "                        if key not in county_acres_burnt : \n",
    "                            county_acres_burnt[key]=float(total_acres)*float(elem)/total_area\n",
    "                        else : \n",
    "                            county_acres_burnt[key]=county_acres_burnt[key]+float(total_acres)*float(elem)/total_area\n",
    "                else : \n",
    "                    if getattr(row,\"AcresBurnedDisplay\")==\"\" : # incomplete data entry \n",
    "                        print(\"WARNING: Incomplete data entry at \", getattr(row,\"Name\"), \"in\", getattr(row,\"CountiesList\"),'on', getattr(row,\"StartedDate\"), \" acres burned :\", \"NULL\")\n",
    "                        county_acres_burnt[county]=0\n",
    "                    else :\n",
    "                        county_acres_burnt[county]=county_acres_burnt[county]+float(getattr(row,\"AcresBurnedDisplay\").replace(',', ''))\n",
    "print(county_acres_burnt)"
   ]
  },
  {
   "cell_type": "code",
   "execution_count": null,
   "metadata": {},
   "outputs": [],
   "source": []
  }
 ],
 "metadata": {
  "kernelspec": {
   "display_name": "Python 3",
   "language": "python",
   "name": "python3"
  },
  "language_info": {
   "codemirror_mode": {
    "name": "ipython",
    "version": 3
   },
   "file_extension": ".py",
   "mimetype": "text/x-python",
   "name": "python",
   "nbconvert_exporter": "python",
   "pygments_lexer": "ipython3",
   "version": "3.7.3"
  }
 },
 "nbformat": 4,
 "nbformat_minor": 2
}
