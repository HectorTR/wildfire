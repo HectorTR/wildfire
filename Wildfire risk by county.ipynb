{
 "cells": [
  {
   "cell_type": "markdown",
   "metadata": {},
   "source": [
    "# Wildfire risk by US county"
   ]
  },
  {
   "cell_type": "markdown",
   "metadata": {},
   "source": [
    "## Introduction"
   ]
  },
  {
   "cell_type": "markdown",
   "metadata": {},
   "source": [
    "### Obtain all zipcodes for the state"
   ]
  },
  {
   "cell_type": "code",
   "execution_count": 1,
   "metadata": {},
   "outputs": [
    {
     "name": "stdout",
     "output_type": "stream",
     "text": [
      "2589 zipcodes found...\n",
      "      zipcode              city       county\n",
      "0       90001       Los Angeles  Los Angeles\n",
      "1       90002       Los Angeles  Los Angeles\n",
      "2       90003       Los Angeles  Los Angeles\n",
      "3       90004       Los Angeles  Los Angeles\n",
      "4       90005       Los Angeles  Los Angeles\n",
      "...       ...               ...          ...\n",
      "2584    96157  South Lake Tahoe    El Dorado\n",
      "2585    96158  South Lake Tahoe    El Dorado\n",
      "2586    96160           Truckee       Nevada\n",
      "2587    96161           Truckee       Nevada\n",
      "2588    96162           Truckee       Nevada\n",
      "\n",
      "[2589 rows x 3 columns]\n"
     ]
    }
   ],
   "source": [
    "state_name = 'CA'\n",
    "filename = 'data/zipcodes_'+state_name+'.csv'\n",
    "import pandas as pd\n",
    "counties = pd.read_csv(filename, names=['zipcode','city','county'])\n",
    "print(\"%d zipcodes found...\" % len(counties))\n",
    "with pd.option_context('display.max_rows',10) : \n",
    "    print(counties)"
   ]
  },
  {
   "cell_type": "markdown",
   "metadata": {},
   "source": [
    "### Load cencus data "
   ]
  },
  {
   "cell_type": "code",
   "execution_count": 2,
   "metadata": {},
   "outputs": [
    {
     "name": "stdout",
     "output_type": "stream",
     "text": [
      "WARNING: missing data in 2143 out of 2589 zipcodes\n"
     ]
    }
   ],
   "source": [
    "from uszipcode import SearchEngine\n",
    "\n",
    "search = SearchEngine(simple_zipcode=True)\n",
    "countydata = {}\n",
    "skipped_zip=0\n",
    "for zipcode in list(counties.index) : \n",
    "    data = search.by_zipcode(str(zipcode)).to_dict()\n",
    "    try : \n",
    "        countydata[zipcode] = {\n",
    "            \"City\":data[\"major_city\"]+\" \"+data[\"state\"],\n",
    "            \"Latitude\":data[\"lat\"],\n",
    "            \"Longitude\":data[\"lng\"],\n",
    "            \"Population\":data[\"population\"],\n",
    "            \"Density\":int(data[\"population_density\"]),\n",
    "            \"Occupancy\":int(data[\"occupied_housing_units\"] / data[\"housing_units\"] * 100)/100,\n",
    "            \"Value\":int(data[\"median_home_value\"]/100)/10,\n",
    "            \"Income\":int(data[\"median_household_income\"]/100)/10\n",
    "        }\n",
    "    except:\n",
    "        skipped_zip = skipped_zip+1\n",
    "#         print(\"WARNING: error processing %s rbs, skipping\" % (zipcode))\n",
    "print(\"WARNING: missing data in %d out of %d zipcodes\" % (skipped_zip,len(counties)))"
   ]
  },
  {
   "cell_type": "markdown",
   "metadata": {},
   "source": [
    "### Load FEMA data"
   ]
  },
  {
   "cell_type": "markdown",
   "metadata": {},
   "source": [
    "The data is retrieved from https://www.fema.gov/openfema-dataset-disaster-declarations-summaries-v2"
   ]
  },
  {
   "cell_type": "code",
   "execution_count": 55,
   "metadata": {},
   "outputs": [],
   "source": [
    "# fema_filename = 'data/DisasterDeclarationsSummaries.csv'\n",
    "# fire_data = pd.read_csv(fema_filename, index_col=[1],names=[\"femaDeclarationString\",\n",
    "#                                                             \"disasterNumber\",\n",
    "#                                                             \"state\",\n",
    "#                                                             \"declarationType\",\n",
    "#                                                             \"declarationDate\",\n",
    "#                                                             \"fyDeclared\",\n",
    "#                                                             \"incidentType\",\n",
    "#                                                             \"declarationTitle\",\n",
    "#                                                             \"ihProgramDeclared\",\n",
    "#                                                             \"iaProgramDeclared\",\n",
    "#                                                             \"paProgramDeclared\",\n",
    "#                                                             \"hmProgramDeclared\",\n",
    "#                                                             \"incidentBeginDate\",\n",
    "#                                                             \"incidentEndDate\",\n",
    "#                                                             \"disasterCloseoutDate\",\n",
    "#                                                             \"fipsStateCode\",\n",
    "#                                                             \"fipsCountyCode\",\n",
    "#                                                             \"placeCode\",\n",
    "#                                                             \"designatedArea\",\n",
    "#                                                             \"declarationRequestNumber\",\n",
    "#                                                             \"hash\",\"lastRefresh\"])\n",
    "# print('Types of incidents filed in the data set...')\n",
    "# print(set(fire_data['incidentType']))\n",
    "# for item in list(fire_data.index) : \n",
    "#     print(item)\n",
    "# with pd.option_context('display.max_rows',10) : \n",
    "#     print(fire_data)"
   ]
  },
  {
   "cell_type": "markdown",
   "metadata": {},
   "source": [
    "*Assuming only fire incidents are relevent to this study"
   ]
  },
  {
   "cell_type": "markdown",
   "metadata": {},
   "source": [
    "### Getting California fire incident data"
   ]
  },
  {
   "cell_type": "markdown",
   "metadata": {},
   "source": [
    "Scraping the data off of www.fire.ca.gov/incidents"
   ]
  },
  {
   "cell_type": "code",
   "execution_count": 4,
   "metadata": {},
   "outputs": [],
   "source": [
    "import requests \n",
    "from bs4 import BeautifulSoup\n",
    "import re\n",
    "table_content = []\n",
    "final_list = []\n",
    "list_of_avail_years = range(2013,2020,1)\n",
    "for yr in list_of_avail_years : \n",
    "    url = 'https://www.fire.ca.gov/incidents/'+str(yr)+'/'\n",
    "    r = requests.get(url)\n",
    "    soup = BeautifulSoup(r.content, 'html.parser')\n",
    "    html_content = {}\n",
    "    for i in range(len(soup.find_all('div'))) : \n",
    "        try : \n",
    "            if soup.find_all('div')[i].attrs['class'] == ['section', 'incidents-esri-webmap']: \n",
    "                html_content = soup.find_all('div')[i].text\n",
    "        except : \n",
    "            continue\n",
    "    \n",
    "    table_content=eval(html_content.partition('create_map([')[2].split(\"\\n\")[0][:-3])\n",
    "    for t in table_content : \n",
    "        final_list.append(t)\n"
   ]
  },
  {
   "cell_type": "markdown",
   "metadata": {},
   "source": [
    "Constructing the dataframe based on scraped data"
   ]
  },
  {
   "cell_type": "code",
   "execution_count": 101,
   "metadata": {},
   "outputs": [
    {
     "name": "stdout",
     "output_type": "stream",
     "text": [
      "      IncidentId                              UniqueId            Name  \\\n",
      "0            653  7a4a3552-3bea-4428-984c-e2edef13980f      Becks Fire   \n",
      "1            654  094719ba-a47b-4abb-9ec5-a506b2b9fd23      River Fire   \n",
      "2            655  99cb21da-9639-4300-9a97-1cadc993189f     Jurupa Fire   \n",
      "3            656  3513f584-632d-4fd0-a98a-646eb0753248      Butte Fire   \n",
      "4            657  58f89ff8-bd3e-4355-b1c0-8fa05c747d3f   Fawnskin Fire   \n",
      "...          ...                                   ...             ...   \n",
      "1617        2368  dfc32e06-b88e-4d30-ae3d-22bc18792f5e   Hillside Fire   \n",
      "1618        2369  31852a71-e639-496f-9e7d-0968d1c218b3     Maria Fire    \n",
      "1619        2370  305f30f5-622d-4c55-8813-45ffbc15aed0  Sobrante Fire    \n",
      "1620        2371  69d98a94-4980-4dc0-b388-61c37c635f32      Ranch Fire   \n",
      "1621        2372  600d608d-6279-435d-bc9b-99aacaa5e80f      Eagle Fire   \n",
      "\n",
      "                                               Location   Latitude  \\\n",
      "0         North of Highway 29, southeast of Kelseyville   0.000000   \n",
      "1     south of Narrow Gauge Rd & north of Hwy 136, e...  36.602575   \n",
      "2          Rio Rancho Rd & Calle Hermosa, Jurupa Valley   0.000000   \n",
      "3     Butte Ave near Conejo Ave near the community o...   0.000000   \n",
      "4     west of Delamar Mountain, north of the communi...  34.288877   \n",
      "...                                                 ...        ...   \n",
      "1617  off of W 59th and Hill Dr, in San Bernardino N...  34.183000   \n",
      "1618  off of Bradley Road and Solano Verde Dr, Top o...  34.302212   \n",
      "1619  off of La Sierra Ave and Tin Mine Road,  East ...  33.849906   \n",
      "1620  Colyer Springs Rd and Raglin Ridge Rd, southwe...  40.036379   \n",
      "1621  Walker Ridge Road and Bartlett Springs Road, n...  39.100408   \n",
      "\n",
      "       Longitude AcresBurnedDisplay PercentContainedDisplay    CountiesList  \\\n",
      "0       0.000000                296                    100%            Lake   \n",
      "1    -118.016510                406                    100%            Inyo   \n",
      "2       0.000000                311                    100%       Riverside   \n",
      "3       0.000000                 80                    100%          Fresno   \n",
      "4    -116.941311                 30                    100%  San Bernardino   \n",
      "...          ...                ...                     ...             ...   \n",
      "1617 -117.285000                200                    100%  San Bernardino   \n",
      "1618 -118.997115              9,999                    100%         Ventura   \n",
      "1619 -117.461363                 19                    100%       Riverside   \n",
      "1620 -122.637837              2,534                    100%          Tehama   \n",
      "1621 -122.496548                 75                    100%            Lake   \n",
      "\n",
      "              UpdatedDate StartedDate  \\\n",
      "0     2013-01-23 10:15:00  2013-01-22   \n",
      "1     2013-02-28 20:00:00  2013-02-24   \n",
      "2     2013-03-02 19:00:00  2013-02-28   \n",
      "3     2013-04-09 15:30:00  2013-04-09   \n",
      "4     2013-04-22 09:00:00  2013-04-20   \n",
      "...                   ...         ...   \n",
      "1617  2019-11-12 09:03:33  2019-10-31   \n",
      "1618  2019-11-06 18:27:43  2019-10-31   \n",
      "1619  2019-11-05 08:56:21  2019-11-01   \n",
      "1620  2019-11-18 08:28:54  2019-11-03   \n",
      "1621  2019-11-14 18:26:01  2019-11-05   \n",
      "\n",
      "                                              AdminUnit IncidentTypeDisplay  \\\n",
      "0                        CAL FIRE Sonoma-Lake-Napa Unit                       \n",
      "1                          CAL FIRE San Bernardino Unit                       \n",
      "2                      CAL FIRE / Riverside County Fire                       \n",
      "3                         CAL FIRE / Fresno County Fire                       \n",
      "4                        San Bernardino National Forest                       \n",
      "...                                                 ...                 ...   \n",
      "1617  San Bernardino County Fire Department/ San Ber...            Wildfire   \n",
      "1618                    Ventura County Fire Department             Wildfire   \n",
      "1619         CAL FIRE Riverside County Fire Department             Wildfire   \n",
      "1620                         CAL FIRE Tehama-Glenn Unit            Wildfire   \n",
      "1621                     CAL FIRE Sonoma-Lake-Napa Unit            Wildfire   \n",
      "\n",
      "                                                    Url IsActive  \n",
      "0     https://www.fire.ca.gov/incidents/2013/1/22/be...        N  \n",
      "1     https://www.fire.ca.gov/incidents/2013/2/24/ri...        N  \n",
      "2     https://www.fire.ca.gov/incidents/2013/2/28/ju...        N  \n",
      "3     https://www.fire.ca.gov/incidents/2013/4/9/but...        N  \n",
      "4     https://www.fire.ca.gov/incidents/2013/4/20/fa...        N  \n",
      "...                                                 ...      ...  \n",
      "1617  https://www.fire.ca.gov/incidents/2019/10/31/h...        N  \n",
      "1618  https://www.fire.ca.gov/incidents/2019/10/31/m...        N  \n",
      "1619  https://www.fire.ca.gov/incidents/2019/11/1/so...        N  \n",
      "1620  https://www.fire.ca.gov/incidents/2019/11/3/ra...        N  \n",
      "1621  https://www.fire.ca.gov/incidents/2019/11/5/ea...        N  \n",
      "\n",
      "[1622 rows x 15 columns]\n"
     ]
    }
   ],
   "source": [
    "fires_df = pd.DataFrame(final_list)\n",
    "# fires_df.set_index('CountiesList',inplace=True)\n",
    "print(fires_df)"
   ]
  },
  {
   "cell_type": "markdown",
   "metadata": {},
   "source": [
    "Listing the counties affected by fires"
   ]
  },
  {
   "cell_type": "code",
   "execution_count": 102,
   "metadata": {},
   "outputs": [
    {
     "name": "stdout",
     "output_type": "stream",
     "text": [
      "List of counties affect by fires : \n",
      " {'Yuba', 'Sierra', 'Modoc', 'Marin', 'Solano', 'Kern', 'Shasta', 'Ventura', 'Mono', 'Tehama', 'Butte', 'El Dorado', 'Fresno', 'Santa Barbara', 'Napa', 'State of Oregon', 'San Luis Obispo', 'Kings', 'Trinity', 'San Diego', 'Nevada', 'Amador', 'Sacramento', 'Placer', 'Plumas', 'Riverside', 'Santa Clara', 'Contra Costa', 'Orange', 'Mariposa', 'Sonoma', 'Stanislaus', 'Glenn', 'Monterey', 'Madera', 'Alameda', 'Lake', 'San Mateo', 'San Bernardino', 'Tulare', 'Inyo', 'Mendocino', 'Sutter', 'Lassen', 'San Joaquin', 'Calaveras', 'San Benito', 'Alpine', 'Humboldt', 'Mexico', 'Los Angeles', 'State of Nevada', 'Del Norte', 'Siskiyou', 'Colusa', 'Merced', 'Santa Cruz', 'Yolo', 'Tuolumne'}\n"
     ]
    }
   ],
   "source": [
    "county_list = []\n",
    "county_list_repeated = set(fires_df['CountiesList'].tolist())\n",
    "while (\"\" in county_list_repeated) : \n",
    "    county_list_repeated.remove(\"\")\n",
    "for item in county_list_repeated : \n",
    "    item_list = []\n",
    "    item_list = item.split(\",\")\n",
    "    if len(item_list) > 1 : \n",
    "        for c in item_list : \n",
    "            county_list.append(c.strip())\n",
    "    else : \n",
    "        county_list.append(item)\n",
    "county_set = set(county_list)\n",
    "print('List of counties affect by fires : \\n', county_set)"
   ]
  },
  {
   "cell_type": "code",
   "execution_count": 103,
   "metadata": {},
   "outputs": [
    {
     "name": "stdout",
     "output_type": "stream",
     "text": [
      "Total of 59 out 58 total counties in CA affected by fires\n"
     ]
    }
   ],
   "source": [
    "print(\"Total of %d out 58 total counties in CA affected by fires\" % len(county_set))"
   ]
  },
  {
   "cell_type": "markdown",
   "metadata": {},
   "source": [
    "The county size information was acquired from https://www.counties.org/pod/square-mileage-county on Nov 15, 2019"
   ]
  },
  {
   "cell_type": "code",
   "execution_count": 106,
   "metadata": {},
   "outputs": [
    {
     "name": "stdout",
     "output_type": "stream",
     "text": [
      "58 counties found...\n",
      "                 size\n",
      "county               \n",
      "San Bernardino  20057\n",
      "Inyo            10181\n",
      "Kern             8132\n",
      "Riverside        7206\n",
      "Siskiyou         6278\n",
      "...               ...\n",
      "Amador            595\n",
      "Marin             520\n",
      "San Mateo         448\n",
      "Santa Cruz        445\n",
      "San Francisco      47\n",
      "\n",
      "[58 rows x 1 columns]\n"
     ]
    }
   ],
   "source": [
    "county_size = pd.read_csv('data/counties_size.csv', names=['county','size'])\n",
    "county_size.set_index('county',inplace=True)\n",
    "print(\"%d counties found...\" % len(county_size))\n",
    "with pd.option_context('display.max_rows',10) : \n",
    "    print(county_size)"
   ]
  },
  {
   "cell_type": "markdown",
   "metadata": {},
   "source": [
    "Note, the area is quoted in square miles."
   ]
  },
  {
   "cell_type": "markdown",
   "metadata": {},
   "source": [
    "Checking that the county is listed in the manifest : "
   ]
  },
  {
   "cell_type": "code",
   "execution_count": 108,
   "metadata": {},
   "outputs": [
    {
     "name": "stdout",
     "output_type": "stream",
     "text": [
      "ERROR: Unknown County State of Oregon in fire data\n",
      "ERROR: Unknown County Mexico in fire data\n",
      "ERROR: Unknown County State of Nevada in fire data\n"
     ]
    }
   ],
   "source": [
    "county_manifest = county_size.index.tolist()\n",
    "county_exclude = []\n",
    "for county in county_set : \n",
    "    if county not in county_manifest : \n",
    "        print(\"ERROR: Unknown County %s in fire data\" % county)\n",
    "        county_exclude.append(county)"
   ]
  },
  {
   "cell_type": "code",
   "execution_count": 215,
   "metadata": {},
   "outputs": [
    {
     "data": {
      "text/plain": [
       "1843.0"
      ]
     },
     "execution_count": 215,
     "metadata": {},
     "output_type": "execute_result"
    }
   ],
   "source": [
    "# county_size\n",
    "def get_area(county) : \n",
    "    area = county_size.loc[county]\n",
    "    return float(area)\n",
    "\n",
    "# get_area(\"Ventura\") # for testing"
   ]
  },
  {
   "cell_type": "markdown",
   "metadata": {},
   "source": [
    "Restructuring the dataframe to only have one county assigned to a fire"
   ]
  },
  {
   "cell_type": "code",
   "execution_count": 257,
   "metadata": {},
   "outputs": [
    {
     "name": "stdout",
     "output_type": "stream",
     "text": [
      "WARNING: found county that is not in the manifest\n",
      "      IncidentId                              UniqueId        Name  \\\n",
      "1579         670  e0d038e9-0926-4c05-8317-ec7075a04b12  Grand Fire   \n",
      "1580         670  e0d038e9-0926-4c05-8317-ec7075a04b12  Grand Fire   \n",
      "\n",
      "                                               Location  Latitude  Longitude  \\\n",
      "1579  South of Frazier Mountain Park Rd, South of Fr...   34.7861  -118.9411   \n",
      "1580  South of Frazier Mountain Park Rd, South of Fr...   34.7861  -118.9411   \n",
      "\n",
      "     AcresBurnedDisplay PercentContainedDisplay CountiesList  \\\n",
      "1579            3543.02                    100%         Kern   \n",
      "1580            802.975                    100%      Ventura   \n",
      "\n",
      "              UpdatedDate StartedDate  \\\n",
      "1579  2013-05-21 19:45:00  2013-05-15   \n",
      "1580  2013-05-21 19:45:00  2013-05-15   \n",
      "\n",
      "                                       AdminUnit IncidentTypeDisplay  \\\n",
      "1579  CAL FIRE / USFS Los Padres National Forest                       \n",
      "1580  CAL FIRE / USFS Los Padres National Forest                       \n",
      "\n",
      "                                                    Url IsActive  \n",
      "1579  https://www.fire.ca.gov/incidents/2013/5/15/gr...        N  \n",
      "1580  https://www.fire.ca.gov/incidents/2013/5/15/gr...        N  \n"
     ]
    }
   ],
   "source": [
    "fires_df=fires_df[fires_df.AcresBurnedDisplay!='']\n",
    "fires_df=fires_df[fires_df.CountiesList!='']\n",
    "fires_multi_county_df=fires_df[fires_df.CountiesList.str.contains(\",\")]\n",
    "fires_no_multi_county=fires_df[~fires_df.CountiesList.str.contains(\",\")]\n",
    "# print(fires_multi_county_df)\n",
    "new_rows = []\n",
    "for row in fires_multi_county_df.iterrows() :\n",
    "    row_tmp = row[1].copy()\n",
    "    row_id_temp = row[0]\n",
    "    county_temp = [x.strip(' ') for x in row[1][\"CountiesList\"].split(\",\")]\n",
    "    total_area = 0\n",
    "    # Filtering out counties that are not in the manifest\n",
    "    if [(i,j) for i in county_temp for j in county_manifest if i not in county_manifest] : \n",
    "        print(\"WARNING: found county that is not in the manifest\")\n",
    "        continue\n",
    "    # Find total area for the fraction of acres burned per county\n",
    "    for c_t in county_temp : \n",
    "        total_area = total_area + get_area(c_t)\n",
    "    for c_temp in county_temp : \n",
    "        row = (row_id_temp,row_tmp.copy())\n",
    "        row[1][\"CountiesList\"]=c_temp\n",
    "        total_burn = float(row[1][\"AcresBurnedDisplay\"].replace(',',''))\n",
    "        row[1][\"AcresBurnedDisplay\"]=total_burn*get_area(c_temp)/total_area\n",
    "        fires_no_multi_county = fires_no_multi_county.append(row[1], ignore_index=True)\n",
    "print(fires_no_multi_county.loc[fires_no_multi_county['Name'].str.contains(\"Grand Fire\")])"
   ]
  },
  {
   "cell_type": "code",
   "execution_count": 90,
   "metadata": {},
   "outputs": [],
   "source": []
  },
  {
   "cell_type": "code",
   "execution_count": null,
   "metadata": {},
   "outputs": [],
   "source": []
  },
  {
   "cell_type": "code",
   "execution_count": null,
   "metadata": {},
   "outputs": [],
   "source": []
  }
 ],
 "metadata": {
  "kernelspec": {
   "display_name": "Python 3",
   "language": "python",
   "name": "python3"
  },
  "language_info": {
   "codemirror_mode": {
    "name": "ipython",
    "version": 3
   },
   "file_extension": ".py",
   "mimetype": "text/x-python",
   "name": "python",
   "nbconvert_exporter": "python",
   "pygments_lexer": "ipython3",
   "version": "3.7.3"
  }
 },
 "nbformat": 4,
 "nbformat_minor": 2
}
