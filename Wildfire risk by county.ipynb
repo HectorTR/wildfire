{
 "cells": [
  {
   "cell_type": "markdown",
   "metadata": {},
   "source": [
    "# Wildfire risk by US county"
   ]
  },
  {
   "cell_type": "markdown",
   "metadata": {},
   "source": [
    "## Introduction"
   ]
  },
  {
   "cell_type": "markdown",
   "metadata": {},
   "source": [
    "### Obtain all zipcodes for the state"
   ]
  },
  {
   "cell_type": "code",
   "execution_count": 158,
   "metadata": {},
   "outputs": [
    {
     "name": "stdout",
     "output_type": "stream",
     "text": [
      "2589 zipcodes found...\n",
      "                     city       county\n",
      "zipcode                               \n",
      "90001         Los Angeles  Los Angeles\n",
      "90002         Los Angeles  Los Angeles\n",
      "90003         Los Angeles  Los Angeles\n",
      "90004         Los Angeles  Los Angeles\n",
      "90005         Los Angeles  Los Angeles\n",
      "...                   ...          ...\n",
      "96157    South Lake Tahoe    El Dorado\n",
      "96158    South Lake Tahoe    El Dorado\n",
      "96160             Truckee       Nevada\n",
      "96161             Truckee       Nevada\n",
      "96162             Truckee       Nevada\n",
      "\n",
      "[2589 rows x 2 columns]\n"
     ]
    }
   ],
   "source": [
    "state_name = 'CA'\n",
    "filename = 'data/zipcodes_'+state_name+'.csv'\n",
    "import pandas as pd\n",
    "counties = pd.read_csv(filename, index_col=[0],names=['zipcode','city','county'])\n",
    "print(\"%d zipcodes found...\" % len(counties))\n",
    "with pd.option_context('display.max_rows',10) : \n",
    "    print(counties)"
   ]
  },
  {
   "cell_type": "markdown",
   "metadata": {},
   "source": [
    "### Load cencus data "
   ]
  },
  {
   "cell_type": "code",
   "execution_count": 159,
   "metadata": {},
   "outputs": [
    {
     "name": "stdout",
     "output_type": "stream",
     "text": [
      "WARNING: missing data in 940 out of 2589 zipcodes\n"
     ]
    }
   ],
   "source": [
    "from uszipcode import SearchEngine\n",
    "\n",
    "search = SearchEngine(simple_zipcode=True)\n",
    "countydata = {}\n",
    "skipped_zip=0\n",
    "for zipcode in list(counties.index) : \n",
    "    data = search.by_zipcode(str(zipcode)).to_dict()\n",
    "    try : \n",
    "        countydata[zipcode] = {\n",
    "            \"City\":data[\"major_city\"]+\" \"+data[\"state\"],\n",
    "            \"Latitude\":data[\"lat\"],\n",
    "            \"Longitude\":data[\"lng\"],\n",
    "            \"Population\":data[\"population\"],\n",
    "            \"Density\":int(data[\"population_density\"]),\n",
    "            \"Occupancy\":int(data[\"occupied_housing_units\"] / data[\"housing_units\"] * 100)/100,\n",
    "            \"Value\":int(data[\"median_home_value\"]/100)/10,\n",
    "            \"Income\":int(data[\"median_household_income\"]/100)/10\n",
    "        }\n",
    "    except:\n",
    "        skipped_zip = skipped_zip+1\n",
    "#         print(\"WARNING: error processing %s rbs, skipping\" % (zipcode))\n",
    "print(\"WARNING: missing data in %d out of %d zipcodes\" % (skipped_zip,len(counties)))"
   ]
  },
  {
   "cell_type": "markdown",
   "metadata": {},
   "source": [
    "### Load FEMA data"
   ]
  },
  {
   "cell_type": "markdown",
   "metadata": {},
   "source": [
    "The data is retrieved from https://www.fema.gov/openfema-dataset-disaster-declarations-summaries-v2"
   ]
  },
  {
   "cell_type": "code",
   "execution_count": 160,
   "metadata": {},
   "outputs": [
    {
     "name": "stdout",
     "output_type": "stream",
     "text": [
      "Types of incidents filed in the data set...\n",
      "{'Flood', 'Human Cause', 'Tsunami', 'Snow', 'Freezing', 'Severe Ice Storm', 'Dam/Levee Break', 'incidentType', 'Tornado', 'Chemical', 'Drought', 'Fire', 'Hurricane', 'Coastal Storm', 'Severe Storm(s)', 'Earthquake', 'Mud/Landslide', 'Fishing Losses', 'Volcano', 'Terrorist', 'Toxic Substances', 'Other', 'Typhoon'}\n"
     ]
    },
    {
     "name": "stderr",
     "output_type": "stream",
     "text": [
      "/usr/local/lib/python3.7/site-packages/IPython/core/interactiveshell.py:3058: DtypeWarning: Columns (1,5,8,9,10,11,15,16,17,19) have mixed types. Specify dtype option on import or set low_memory=False.\n",
      "  interactivity=interactivity, compiler=compiler, result=result)\n"
     ]
    }
   ],
   "source": [
    "fema_filename = 'data/DisasterDeclarationsSummaries.csv'\n",
    "fire_data = pd.read_csv(fema_filename, index_col=[1],names=[\"femaDeclarationString\",\n",
    "                                                            \"disasterNumber\",\n",
    "                                                            \"state\",\n",
    "                                                            \"declarationType\",\n",
    "                                                            \"declarationDate\",\n",
    "                                                            \"fyDeclared\",\n",
    "                                                            \"incidentType\",\n",
    "                                                            \"declarationTitle\",\n",
    "                                                            \"ihProgramDeclared\",\n",
    "                                                            \"iaProgramDeclared\",\n",
    "                                                            \"paProgramDeclared\",\n",
    "                                                            \"hmProgramDeclared\",\n",
    "                                                            \"incidentBeginDate\",\n",
    "                                                            \"incidentEndDate\",\n",
    "                                                            \"disasterCloseoutDate\",\n",
    "                                                            \"fipsStateCode\",\n",
    "                                                            \"fipsCountyCode\",\n",
    "                                                            \"placeCode\",\n",
    "                                                            \"designatedArea\",\n",
    "                                                            \"declarationRequestNumber\",\n",
    "                                                            \"hash\",\"lastRefresh\"])\n",
    "print('Types of incidents filed in the data set...')\n",
    "print(set(fire_data['incidentType']))\n",
    "# for item in list(fire_data.index) : \n",
    "#     print(item)\n",
    "# with pd.option_context('display.max_rows',10) : \n",
    "#     print(fire_data)"
   ]
  },
  {
   "cell_type": "markdown",
   "metadata": {},
   "source": [
    "*Assuming only fire incidents are relevent to this study"
   ]
  },
  {
   "cell_type": "markdown",
   "metadata": {},
   "source": [
    "### Getting California fire incident data"
   ]
  },
  {
   "cell_type": "code",
   "execution_count": 161,
   "metadata": {},
   "outputs": [],
   "source": [
    "import requests \n",
    "from bs4 import BeautifulSoup\n",
    "import re\n",
    "table_content = []\n",
    "final_list = []\n",
    "list_of_avail_years = range(2013,2019,1)\n",
    "for yr in list_of_avail_years : \n",
    "    url = 'https://www.fire.ca.gov/incidents/'+str(yr)+'/'\n",
    "    r = requests.get(url)\n",
    "    soup = BeautifulSoup(r.content, 'html.parser')\n",
    "    html_content = {}\n",
    "    for i in range(len(soup.find_all('div'))) : \n",
    "        try : \n",
    "            if soup.find_all('div')[i].attrs['class'] == ['section', 'incidents-esri-webmap']: \n",
    "                html_content = soup.find_all('div')[i].text\n",
    "        except : \n",
    "            continue\n",
    "    \n",
    "    table_content=eval(html_content.partition('create_map([')[2].split(\"\\n\")[0][:-3])\n",
    "    for t in table_content : \n",
    "        final_list.append(t)\n"
   ]
  },
  {
   "cell_type": "code",
   "execution_count": 162,
   "metadata": {},
   "outputs": [],
   "source": [
    "fires_df = pd.DataFrame(final_list)"
   ]
  },
  {
   "cell_type": "markdown",
   "metadata": {},
   "source": [
    "Example fire statistics on Ranch Fires"
   ]
  },
  {
   "cell_type": "code",
   "execution_count": 163,
   "metadata": {},
   "outputs": [
    {
     "name": "stdout",
     "output_type": "stream",
     "text": [
      "      IncidentId                              UniqueId  \\\n",
      "208          861  9487beeb-6c40-46fc-b4b3-a353a688a826   \n",
      "323          976  a4e4603a-f0fc-4d7a-845b-6c668bfcb81e   \n",
      "735         1388  5da65d7f-cc75-4c0c-b221-1a1e3000a120   \n",
      "834         1487  2fd950a8-fadb-467c-ab59-88e7ea007738   \n",
      "1253        1905  90b0daf7-5d84-42d9-bb35-bb78d4faf950   \n",
      "\n",
      "                                Name  \\\n",
      "208                       Ranch Fire   \n",
      "323                       Ranch Fire   \n",
      "735                       Ranch Fire   \n",
      "834                       Ranch Fire   \n",
      "1253  Ranch Fire (Mendocino Complex)   \n",
      "\n",
      "                                               Location   Latitude  \\\n",
      "208                       Southwest of Greenhorn Summit   0.000000   \n",
      "323       off French Creek Rd, south of Shingle Springs   0.000000   \n",
      "735      Off Grant Road, Mt. Hamilton, east of San Jose  37.334400   \n",
      "834                            Ranch Camp Rd, Mt. Aukum  38.559707   \n",
      "1253  off Highway 20 near Potter Valley, northeast o...  39.243283   \n",
      "\n",
      "       Longitude AcresBurnedDisplay PercentContainedDisplay  \\\n",
      "208     0.000000                 70                    100%   \n",
      "323     0.000000                 35                    100%   \n",
      "735  -121.717520                 85                    100%   \n",
      "834  -120.700130                140                    100%   \n",
      "1253 -123.103367            410,203                    100%   \n",
      "\n",
      "                        CountiesList          UpdatedDate StartedDate  \\\n",
      "208                             Kern  2014-07-06 08:30:00  2014-07-01   \n",
      "323                        El Dorado  2015-07-05 11:30:00  2015-07-03   \n",
      "735                      Santa Clara  2018-01-09 11:11:00  2017-06-29   \n",
      "834                        El Dorado  2018-01-09 12:06:00  2017-07-26   \n",
      "1253  Colusa, Glenn, Lake, Mendocino  2019-10-25 10:08:11  2018-07-27   \n",
      "\n",
      "                             AdminUnit IncidentTypeDisplay  \\\n",
      "208            Sequoia National Forest                       \n",
      "323     CAL FIRE Amador El-Dorado Unit                       \n",
      "735          CAL FIRE Santa Clara Unit                       \n",
      "834   CAL FIRE Amador - El Dorado Unit                       \n",
      "1253   USFS Mendocino National Forest             Wildfire   \n",
      "\n",
      "                                                    Url IsActive  \n",
      "208   https://www.fire.ca.gov/incidents/2014/7/1/ran...        N  \n",
      "323   https://www.fire.ca.gov/incidents/2015/7/3/ran...        N  \n",
      "735   https://www.fire.ca.gov/incidents/2017/6/29/ra...        N  \n",
      "834   https://www.fire.ca.gov/incidents/2017/7/26/ra...        N  \n",
      "1253  https://www.fire.ca.gov/incidents/2018/7/27/ra...        N  \n"
     ]
    }
   ],
   "source": [
    "print(fires_df.loc[fires_df['Name'].str.contains('Ranch Fire')])"
   ]
  },
  {
   "cell_type": "markdown",
   "metadata": {},
   "source": [
    "Sorting by county by year "
   ]
  },
  {
   "cell_type": "code",
   "execution_count": 164,
   "metadata": {},
   "outputs": [
    {
     "name": "stdout",
     "output_type": "stream",
     "text": [
      "List of counties affect by fires : \n",
      " {'Madera', 'El Dorado', 'Sacramento', 'Solano', 'Mariposa', 'Santa Cruz', 'Yolo', 'Mono', 'Yuba', 'Sonoma', 'Alpine', 'Alameda', 'San Diego', 'San Benito', 'Humboldt', 'Sierra', 'Colusa', 'Napa', 'Plumas', 'Santa Barbara', 'Riverside', 'Kings', 'Tulare', 'Los Angeles', 'Placer', 'Santa Clara', 'Amador', 'Fresno', 'Kern', 'Sutter', 'San Joaquin', 'Merced', 'Inyo', 'Tehama', 'Tuolumne', 'Lake', 'Del Norte', 'Siskiyou', 'Shasta', 'Monterey', 'Modoc', 'San Luis Obispo', 'Contra Costa', 'Nevada', 'Mendocino', 'Stanislaus', 'San Bernardino', 'Butte', 'Lassen', 'Trinity', 'San Mateo', 'Glenn', 'Calaveras', 'Orange', 'Marin', 'Ventura'}\n"
     ]
    }
   ],
   "source": [
    "county_list = []\n",
    "county_list_repeated = set(fires_df['CountiesList'].tolist())\n",
    "while (\"\" in county_list_repeated) : \n",
    "    county_list_repeated.remove(\"\")\n",
    "for item in county_list_repeated : \n",
    "    item_list = []\n",
    "    item_list = item.split(\",\")\n",
    "    if len(item_list) > 1 : \n",
    "        for c in item_list : \n",
    "            county_list.append(c.strip())\n",
    "    else : \n",
    "        county_list.append(item)\n",
    "county_set = set(county_list)\n",
    "print('List of counties affect by fires : \\n', county_set)"
   ]
  },
  {
   "cell_type": "code",
   "execution_count": 165,
   "metadata": {},
   "outputs": [
    {
     "name": "stdout",
     "output_type": "stream",
     "text": [
      "Total of 56 out 58 total counties in CA affected by fires\n"
     ]
    }
   ],
   "source": [
    "print(\"Total of %d out 58 total counties in CA affected by fires\" % len(county_set))"
   ]
  },
  {
   "cell_type": "markdown",
   "metadata": {},
   "source": [
    "The county size information was acquired from https://www.counties.org/pod/square-mileage-county on Nov 15, 2019"
   ]
  },
  {
   "cell_type": "code",
   "execution_count": 166,
   "metadata": {},
   "outputs": [
    {
     "name": "stdout",
     "output_type": "stream",
     "text": [
      "58 counties found...\n",
      "            county   size\n",
      "0   San Bernardino  20057\n",
      "1             Inyo  10181\n",
      "2             Kern   8132\n",
      "3        Riverside   7206\n",
      "4         Siskiyou   6278\n",
      "..             ...    ...\n",
      "53          Amador    595\n",
      "54           Marin    520\n",
      "55       San Mateo    448\n",
      "56      Santa Cruz    445\n",
      "57   San Francisco     47\n",
      "\n",
      "[58 rows x 2 columns]\n"
     ]
    }
   ],
   "source": [
    "county_size = pd.read_csv('data/counties_size.csv', names=['county','size'])\n",
    "print(\"%d counties found...\" % len(county_size))\n",
    "with pd.option_context('display.max_rows',10) : \n",
    "    print(county_size)"
   ]
  },
  {
   "cell_type": "markdown",
   "metadata": {},
   "source": [
    "Note, the area is quoted in square miles."
   ]
  },
  {
   "cell_type": "markdown",
   "metadata": {},
   "source": [
    "Checking that the county is listed in the manifest : "
   ]
  },
  {
   "cell_type": "code",
   "execution_count": 167,
   "metadata": {},
   "outputs": [],
   "source": [
    "county_manifest = county_size['county'].values.tolist()\n",
    "for county in county_set : \n",
    "    if county not in county_manifest : \n",
    "        print(\"ERROR: Unknown County %s in fire data\" % county)"
   ]
  },
  {
   "cell_type": "code",
   "execution_count": null,
   "metadata": {},
   "outputs": [],
   "source": []
  }
 ],
 "metadata": {
  "kernelspec": {
   "display_name": "Python 3",
   "language": "python",
   "name": "python3"
  },
  "language_info": {
   "codemirror_mode": {
    "name": "ipython",
    "version": 3
   },
   "file_extension": ".py",
   "mimetype": "text/x-python",
   "name": "python",
   "nbconvert_exporter": "python",
   "pygments_lexer": "ipython3",
   "version": "3.7.3"
  }
 },
 "nbformat": 4,
 "nbformat_minor": 2
}
